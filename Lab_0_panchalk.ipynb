{
 "cells": [
  {
   "cell_type": "code",
   "execution_count": 5,
   "id": "0fb1a87b-3719-4797-8756-39e6c81c2300",
   "metadata": {},
   "outputs": [
    {
     "name": "stdout",
     "output_type": "stream",
     "text": [
      "['medo.txt.', 'dobie.txt.', 'lucy.txt.', 'major.txt.']\n"
     ]
    }
   ],
   "source": [
    "# Part 1\n",
    "dogs = ['medo', 'dobie', 'lucy', 'major']\n",
    "txt = []\n",
    "for ap in dogs:\n",
    "    txt.append(ap + \".txt.\")\n",
    "print (txt)"
   ]
  },
  {
   "cell_type": "code",
   "execution_count": 8,
   "id": "599ca24b-a07d-49bc-8e27-02ae3ed6e8e8",
   "metadata": {},
   "outputs": [
    {
     "name": "stdout",
     "output_type": "stream",
     "text": [
      "0\n",
      "1\n",
      "2\n",
      "3\n",
      "4\n",
      "5\n",
      "6\n",
      "7\n",
      "8\n"
     ]
    }
   ],
   "source": [
    "# Part 2 \n",
    "from math import pi\n",
    "x=0\n",
    "while pi**x < 10000:\n",
    "    print (x)\n",
    "    x +=1"
   ]
  },
  {
   "cell_type": "code",
   "execution_count": null,
   "id": "d2e3750a-f678-4db2-97ad-76032640f1b3",
   "metadata": {},
   "outputs": [],
   "source": []
  }
 ],
 "metadata": {
  "kernelspec": {
   "display_name": "Python 3 (ipykernel)",
   "language": "python",
   "name": "python3"
  },
  "language_info": {
   "codemirror_mode": {
    "name": "ipython",
    "version": 3
   },
   "file_extension": ".py",
   "mimetype": "text/x-python",
   "name": "python",
   "nbconvert_exporter": "python",
   "pygments_lexer": "ipython3",
   "version": "3.7.10"
  }
 },
 "nbformat": 4,
 "nbformat_minor": 5
}
